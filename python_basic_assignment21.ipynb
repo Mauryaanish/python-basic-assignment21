{
  "nbformat": 4,
  "nbformat_minor": 0,
  "metadata": {
    "colab": {
      "provenance": []
    },
    "kernelspec": {
      "name": "python3",
      "display_name": "Python 3"
    },
    "language_info": {
      "name": "python"
    }
  },
  "cells": [
    {
      "cell_type": "code",
      "execution_count": null,
      "metadata": {
        "id": "9o88NIsvyyBO"
      },
      "outputs": [],
      "source": []
    },
    {
      "cell_type": "markdown",
      "source": [
        "1. Add the current date to the text file today.txt as a string."
      ],
      "metadata": {
        "id": "h0unHp1ry9SF"
      }
    },
    {
      "cell_type": "code",
      "source": [
        "import datetime\n",
        "from datetime import date\n",
        "now = date.today()\n",
        "cur_date = now.isoformat()\n",
        "cur_date"
      ],
      "metadata": {
        "colab": {
          "base_uri": "https://localhost:8080/",
          "height": 35
        },
        "id": "WE-LHibEzIt_",
        "outputId": "1bb090f6-303a-4242-f608-9b9216af918d"
      },
      "execution_count": 1,
      "outputs": [
        {
          "output_type": "execute_result",
          "data": {
            "text/plain": [
              "'2023-02-13'"
            ],
            "application/vnd.google.colaboratory.intrinsic+json": {
              "type": "string"
            }
          },
          "metadata": {},
          "execution_count": 1
        }
      ]
    },
    {
      "cell_type": "code",
      "source": [
        "with open(\"today.txt\" , \"w\") as file:\n",
        "  file.write(cur_date)\n"
      ],
      "metadata": {
        "id": "Kq9UziPczVbf"
      },
      "execution_count": 2,
      "outputs": []
    },
    {
      "cell_type": "code",
      "source": [],
      "metadata": {
        "id": "v2Kgv22gzrV2"
      },
      "execution_count": null,
      "outputs": []
    },
    {
      "cell_type": "markdown",
      "source": [
        "2. Read the text file today.txt into the string today_string"
      ],
      "metadata": {
        "id": "TrEDQeKDzv7A"
      }
    },
    {
      "cell_type": "code",
      "source": [
        "data = open(\"today.txt\" , \"r\")\n",
        "today_string =data.read()\n",
        "today_string"
      ],
      "metadata": {
        "colab": {
          "base_uri": "https://localhost:8080/",
          "height": 35
        },
        "id": "3GTQBgJnzypm",
        "outputId": "41ef4e53-a884-4cb7-a112-e26bc6855aa7"
      },
      "execution_count": 6,
      "outputs": [
        {
          "output_type": "execute_result",
          "data": {
            "text/plain": [
              "'2023-02-13'"
            ],
            "application/vnd.google.colaboratory.intrinsic+json": {
              "type": "string"
            }
          },
          "metadata": {},
          "execution_count": 6
        }
      ]
    },
    {
      "cell_type": "code",
      "source": [],
      "metadata": {
        "id": "qxXy-vLt0F-G"
      },
      "execution_count": null,
      "outputs": []
    },
    {
      "cell_type": "markdown",
      "source": [
        "3. Parse the date from today_string."
      ],
      "metadata": {
        "id": "cfACW5tx0Pjc"
      }
    },
    {
      "cell_type": "code",
      "source": [
        "from datetime import datetime\n",
        "format = '%Y-%m-%d'\n",
        "datetime.strptime(today_string,format)"
      ],
      "metadata": {
        "colab": {
          "base_uri": "https://localhost:8080/"
        },
        "id": "iG-zu_eh0QPW",
        "outputId": "09db4992-7b03-455c-bf49-2aa738aefdf5"
      },
      "execution_count": 7,
      "outputs": [
        {
          "output_type": "execute_result",
          "data": {
            "text/plain": [
              "datetime.datetime(2023, 2, 13, 0, 0)"
            ]
          },
          "metadata": {},
          "execution_count": 7
        }
      ]
    },
    {
      "cell_type": "code",
      "source": [],
      "metadata": {
        "id": "MjvKc5kw0Snu"
      },
      "execution_count": null,
      "outputs": []
    },
    {
      "cell_type": "markdown",
      "source": [
        "4. List the files in your current directory"
      ],
      "metadata": {
        "id": "AkgvAZyk0mZs"
      }
    },
    {
      "cell_type": "code",
      "source": [
        "import os\n",
        "os.listdir('.')"
      ],
      "metadata": {
        "colab": {
          "base_uri": "https://localhost:8080/"
        },
        "id": "2i6ewKsS0nE2",
        "outputId": "33cee4ad-ca04-4ff3-ec98-9621df179f11"
      },
      "execution_count": 8,
      "outputs": [
        {
          "output_type": "execute_result",
          "data": {
            "text/plain": [
              "['.config', 'today.txt', 'sample_data']"
            ]
          },
          "metadata": {},
          "execution_count": 8
        }
      ]
    },
    {
      "cell_type": "code",
      "source": [],
      "metadata": {
        "id": "x5Fw-Cfg0qc-"
      },
      "execution_count": null,
      "outputs": []
    },
    {
      "cell_type": "markdown",
      "source": [
        "5. Create a list of all of the files in your parent directory (minimum five files should be available)."
      ],
      "metadata": {
        "id": "ZdpdB0rO0uMN"
      }
    },
    {
      "cell_type": "code",
      "source": [
        "import multiprocessing\n",
        "\n",
        "def printsec(seconds):\n",
        "    from datetime import datetime\n",
        "    from time import sleep\n",
        "    sleep(seconds)\n",
        "    print('wait', seconds, 'seconds, time is', datetime.utcnow())\n",
        "    \n",
        "if __name__ == '__main__':\n",
        "    import random    \n",
        "    for n in range(3):\n",
        "        seconds = random.random()\n",
        "        proc = multiprocessing.Process(target=printsec, args=(seconds,))\n",
        "        proc.start()"
      ],
      "metadata": {
        "id": "kKVlJtem0u1O"
      },
      "execution_count": 9,
      "outputs": []
    },
    {
      "cell_type": "code",
      "source": [
        "!python abc.py"
      ],
      "metadata": {
        "colab": {
          "base_uri": "https://localhost:8080/"
        },
        "id": "BVS25PBn0yU2",
        "outputId": "dee77fd7-6004-4d4e-e53d-1d4436b99d43"
      },
      "execution_count": 10,
      "outputs": [
        {
          "output_type": "stream",
          "name": "stdout",
          "text": [
            "python3: can't open file 'abc.py': [Errno 2] No such file or directory\n"
          ]
        }
      ]
    },
    {
      "cell_type": "code",
      "source": [],
      "metadata": {
        "id": "vGrpfY-R01au"
      },
      "execution_count": null,
      "outputs": []
    },
    {
      "cell_type": "markdown",
      "source": [
        "Q.6 Create a date object of your day of birth"
      ],
      "metadata": {
        "id": "jtRK_Y1t07Zk"
      }
    },
    {
      "cell_type": "code",
      "source": [
        "my_dob = date(1998,8,21)\n",
        "my_dob"
      ],
      "metadata": {
        "colab": {
          "base_uri": "https://localhost:8080/"
        },
        "id": "gThDjkS208ie",
        "outputId": "da145da2-4432-4c15-ea04-6ec1db6a1dae"
      },
      "execution_count": 11,
      "outputs": [
        {
          "output_type": "execute_result",
          "data": {
            "text/plain": [
              "datetime.date(1998, 8, 21)"
            ]
          },
          "metadata": {},
          "execution_count": 11
        }
      ]
    },
    {
      "cell_type": "code",
      "source": [],
      "metadata": {
        "id": "SyD94Wq-1CC2"
      },
      "execution_count": null,
      "outputs": []
    },
    {
      "cell_type": "markdown",
      "source": [
        "Q.7 What day of the week was your day of birth?"
      ],
      "metadata": {
        "id": "-ARmTeFp1F_c"
      }
    },
    {
      "cell_type": "code",
      "source": [
        "\n",
        "my_dob.weekday()"
      ],
      "metadata": {
        "colab": {
          "base_uri": "https://localhost:8080/"
        },
        "id": "HKbaUzxO1LDe",
        "outputId": "0fb8ea97-35f7-4af2-875d-9fcb068fbd7d"
      },
      "execution_count": 12,
      "outputs": [
        {
          "output_type": "execute_result",
          "data": {
            "text/plain": [
              "4"
            ]
          },
          "metadata": {},
          "execution_count": 12
        }
      ]
    },
    {
      "cell_type": "code",
      "source": [],
      "metadata": {
        "id": "gHC61sxU1Nxe"
      },
      "execution_count": null,
      "outputs": []
    },
    {
      "cell_type": "markdown",
      "source": [
        "Q. 8 When will you be (or when were you) 10,000 days old?"
      ],
      "metadata": {
        "id": "w4uEI-BP1RSd"
      }
    },
    {
      "cell_type": "code",
      "source": [
        "from datetime import timedelta\n",
        "day10000 = my_dob + timedelta(days=10000)\n",
        "day10000\n",
        "     "
      ],
      "metadata": {
        "colab": {
          "base_uri": "https://localhost:8080/"
        },
        "id": "e6btXPy01SiO",
        "outputId": "358c676e-7a15-4156-ce1a-42536fc79069"
      },
      "execution_count": 13,
      "outputs": [
        {
          "output_type": "execute_result",
          "data": {
            "text/plain": [
              "datetime.date(2026, 1, 6)"
            ]
          },
          "metadata": {},
          "execution_count": 13
        }
      ]
    },
    {
      "cell_type": "code",
      "source": [],
      "metadata": {
        "id": "ldhSEbUR1VL2"
      },
      "execution_count": null,
      "outputs": []
    }
  ]
}